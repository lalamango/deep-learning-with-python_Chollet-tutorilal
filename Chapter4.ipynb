{
 "cells": [
  {
   "cell_type": "markdown",
   "metadata": {},
   "source": [
    "## Chapter4.1 머신 러닝의 네 가지 분류"
   ]
  },
  {
   "cell_type": "markdown",
   "metadata": {},
   "source": [
    "### 지도 학습(supervised learning)\n",
    " - 샘플 데이터가 주이지면 알고 있는 타깃(꼬리표(annotation))에 입력 데이터를 매핑하는 방법을 학습."
   ]
  },
  {
   "cell_type": "markdown",
   "metadata": {},
   "source": [
    " - Main Part : 분류, 회귀"
   ]
  },
  {
   "cell_type": "markdown",
   "metadata": {},
   "source": [
    " - 시퀀스 생성(sequence generation) : 사진이 주어지면 이를 설명하는 캡션을 생성합니다. (일련의 분류 문제)\n",
    " - 구문 트리(syntax tree)예측 : 문장이 주어지면 분해된 구문 트리를 예측\n",
    " - 물체 감지(object detection) : 사진이 주어지면 사진 안의 특정 물체 주위에 경계 상자(bounding box)를 그립니다. (회귀 + 분류)\n",
    " - 이미지 분할(image segmentation): 사진이 주어졌을 때 픽셀 단위로 특정 물체에 마스팅(masking)을 합니다."
   ]
  },
  {
   "cell_type": "markdown",
   "metadata": {},
   "source": [
    "### 비지도 학습(unsupervised learning)\n",
    "    - 차원 축소(dimensionality reduction)와 군집(clustering)\n"
   ]
  },
  {
   "cell_type": "markdown",
   "metadata": {},
   "source": [
    "### 자기 지도 학습(self-supervised learning)\n",
    " - 오토인코더(autoencoder)"
   ]
  },
  {
   "cell_type": "markdown",
   "metadata": {},
   "source": [
    "### 강화 학습(reinforcement learning)"
   ]
  },
  {
   "cell_type": "markdown",
   "metadata": {},
   "source": [
    "## Chapter 4.2 머신 러닝 모델 평가"
   ]
  },
  {
   "cell_type": "markdown",
   "metadata": {},
   "source": [
    " - 검증 세터에 과대적합 : 정보 누설(information leark) // 검증 세트의 모델 성능에 기반하여 모델의 하이퍼파라미터를 조정할때마다 검증 데이터에 관한 정보가 모델로 새는 것\n",
    " - 단순 홀드아웃 검증(hold-out validation), K-겹 교차 검증(k-fold cross-validation), \n",
    "셔플링(shuffling)을 사용한 반복 k-겹 교차 검증(iterated K-fold cross-validation)\n",
    "\n",
    " - RepeatedStratifiedKFold"
   ]
  },
  {
   "cell_type": "markdown",
   "metadata": {},
   "source": [
    "### 유의점\n",
    " - 대표서 있는 데이터 : 예) 이미지 데이터의 경우 순서대로 80:20 비율로 나누면 train에는 0~7만 들어간다. shuffle 해주어야. train_test_split() 에서 stratify 매개변수로 타깃 레이블을 전달\n",
    " - 시간의 방향 : 시계열 데이터의 경우 훈련 세트에 있는 데이터보다 테스트 세트에 있는 모든 데이터가 미래의 것이어야\n",
    " - 데이터 중복 : 한 데이터셋에 어떤 데이터 포인트가 두 번 등장하면 트레인 셋과 테스트 셋에 데이터가 중복될 수 있다. 중복여부 확인! GroupKFold 클래스를 cross_validate()함수에 적용"
   ]
  },
  {
   "cell_type": "markdown",
   "metadata": {},
   "source": [
    "## Chapter 4.3 데이터 전처리, 특성 공학, 특성 학습"
   ]
  },
  {
   "cell_type": "markdown",
   "metadata": {},
   "source": [
    "### 신경망을 위한 데이터 전처리"
   ]
  },
  {
   "cell_type": "markdown",
   "metadata": {},
   "source": [
    "#### 벡터화(data vectorziation) ex) one hot encoding"
   ]
  },
  {
   "cell_type": "markdown",
   "metadata": {},
   "source": [
    "#### 값 정규화 "
   ]
  },
  {
   "cell_type": "code",
   "execution_count": null,
   "metadata": {},
   "outputs": [],
   "source": [
    "x -= x.mean(axis=0) # 평균 0\n",
    "x /= x.std(axis=0) # 표준 편차 1"
   ]
  },
  {
   "cell_type": "markdown",
   "metadata": {},
   "source": [
    "#### 누락된 값 다루기"
   ]
  },
  {
   "cell_type": "markdown",
   "metadata": {},
   "source": [
    "신경망에서는 0이 사전에 정의된 의미 있는 값이 아니라면 누락된 값을 0으로 입력해도 이 값을 무시한다.(0이 누락된 값이라는 것을 학습)"
   ]
  },
  {
   "cell_type": "markdown",
   "metadata": {},
   "source": [
    "#### 특성 공학(feature engineering)"
   ]
  },
  {
   "cell_type": "markdown",
   "metadata": {},
   "source": [
    " - 좋은 특성은 적은 자원을 사용하여 문제를 더 멋지게 풀어낼 수 있습니다. 예를 들어 시계 바늘을 읽는 문제에 합성곱 신경망을 사용하는 것은 어울리지 않습니다.\n",
    " - 좋은 특성은 더 적은 데이터로 문제를 풀 수 있습니다. 딥러닝 모델이 스스로 특성을 학습하는 능력은 가용한 훈련 데이터가 많을 때 발휘합니다. 새믈의 개수가 적다면 특성에 있는 정보가 매우 중요해집니다."
   ]
  },
  {
   "cell_type": "markdown",
   "metadata": {},
   "source": [
    "## Chapter4.4과대적합(Overfitting)과 과소적합(Underfitting)"
   ]
  },
  {
   "cell_type": "markdown",
   "metadata": {},
   "source": [
    "### 네트워크 크기 축소"
   ]
  },
  {
   "cell_type": "markdown",
   "metadata": {},
   "source": [
    " - Overfitting을 막는 가장 단순한 방법은 parameter의 수를 줄이는 것. 이를 모델의 용량(capacity)라고 한다. "
   ]
  },
  {
   "cell_type": "markdown",
   "metadata": {},
   "source": [
    " - 예제 원본 모델 vs 더 작은 용량 모델"
   ]
  },
  {
   "cell_type": "code",
   "execution_count": 5,
   "metadata": {},
   "outputs": [],
   "source": [
    "# data import\n",
    "from keras.datasets import imdb\n",
    "import numpy as np\n",
    "\n",
    "(train_data, train_labels), (test_data, test_labels) = imdb.load_data(num_words=10000)\n",
    "\n",
    "def vectorize_sequences(sequences, dimension=10000):\n",
    "    # 크기가 (len(sequences), dimension))이고 모든 원소가 0인 행렬을 만듭니다\n",
    "    results = np.zeros((len(sequences), dimension))\n",
    "    for i, sequence in enumerate(sequences):\n",
    "        results[i, sequence] = 1.  # results[i]에서 특정 인덱스의 위치를 1로 만듭니다\n",
    "    return results\n",
    "\n",
    "# 훈련 데이터를 벡터로 변환합니다\n",
    "x_train = vectorize_sequences(train_data)\n",
    "# 테스트 데이터를 벡터로 변환합니다\n",
    "x_test = vectorize_sequences(test_data)\n",
    "# 레이블을 벡터로 변환합니다\n",
    "y_train = np.asarray(train_labels).astype('float32')\n",
    "y_test = np.asarray(test_labels).astype('float32')\n"
   ]
  },
  {
   "cell_type": "code",
   "execution_count": 2,
   "metadata": {},
   "outputs": [
    {
     "name": "stderr",
     "output_type": "stream",
     "text": [
      "Using TensorFlow backend.\n"
     ]
    }
   ],
   "source": [
    "from keras import models\n",
    "from keras import layers"
   ]
  },
  {
   "cell_type": "code",
   "execution_count": 6,
   "metadata": {},
   "outputs": [],
   "source": [
    "original_model = models.Sequential()\n",
    "original_model.add(layers.Dense(16, activation='relu', input_shape=(10000,)))\n",
    "original_model.add(layers.Dense(16, activation='relu'))\n",
    "original_model.add(layers.Dense(1, activation='sigmoid'))\n",
    "\n",
    "original_model.compile(optimizer='rmsprop',\n",
    "                       loss='binary_crossentropy',\n",
    "                       metrics=['acc'])\n"
   ]
  },
  {
   "cell_type": "code",
   "execution_count": 7,
   "metadata": {},
   "outputs": [],
   "source": [
    "smaller_model = models.Sequential()\n",
    "smaller_model.add(layers.Dense(6, activation='relu', input_shape=(10000,)))\n",
    "smaller_model.add(layers.Dense(6, activation='relu'))\n",
    "smaller_model.add(layers.Dense(1, activation='sigmoid'))\n",
    "\n",
    "smaller_model.compile(optimizer='rmsprop',\n",
    "                      loss='binary_crossentropy',\n",
    "                      metrics=['acc'])"
   ]
  },
  {
   "cell_type": "code",
   "execution_count": 8,
   "metadata": {},
   "outputs": [
    {
     "name": "stdout",
     "output_type": "stream",
     "text": [
      "Train on 25000 samples, validate on 25000 samples\n",
      "Epoch 1/20\n",
      "25000/25000 [==============================] - 3s 124us/step - loss: 0.4439 - acc: 0.8245 - val_loss: 0.3287 - val_acc: 0.8847\n",
      "Epoch 2/20\n",
      "25000/25000 [==============================] - 2s 82us/step - loss: 0.2575 - acc: 0.9081 - val_loss: 0.2862 - val_acc: 0.8886\n",
      "Epoch 3/20\n",
      "25000/25000 [==============================] - 2s 80us/step - loss: 0.1992 - acc: 0.9287 - val_loss: 0.2822 - val_acc: 0.8886\n",
      "Epoch 4/20\n",
      "25000/25000 [==============================] - 2s 81us/step - loss: 0.1664 - acc: 0.9414 - val_loss: 0.2941 - val_acc: 0.8842\n",
      "Epoch 5/20\n",
      "25000/25000 [==============================] - 2s 79us/step - loss: 0.1426 - acc: 0.9506 - val_loss: 0.3123 - val_acc: 0.8802\n",
      "Epoch 6/20\n",
      "25000/25000 [==============================] - 2s 80us/step - loss: 0.1247 - acc: 0.9562 - val_loss: 0.3512 - val_acc: 0.8722\n",
      "Epoch 7/20\n",
      "25000/25000 [==============================] - 2s 80us/step - loss: 0.1094 - acc: 0.9622 - val_loss: 0.3599 - val_acc: 0.8727\n",
      "Epoch 8/20\n",
      "25000/25000 [==============================] - 2s 80us/step - loss: 0.0960 - acc: 0.9676 - val_loss: 0.3983 - val_acc: 0.8659\n",
      "Epoch 9/20\n",
      "25000/25000 [==============================] - 2s 80us/step - loss: 0.0832 - acc: 0.9726 - val_loss: 0.4229 - val_acc: 0.8641\n",
      "Epoch 10/20\n",
      "25000/25000 [==============================] - 2s 80us/step - loss: 0.0719 - acc: 0.9777 - val_loss: 0.5125 - val_acc: 0.8510\n",
      "Epoch 11/20\n",
      "25000/25000 [==============================] - 2s 80us/step - loss: 0.0667 - acc: 0.9784 - val_loss: 0.4859 - val_acc: 0.8597\n",
      "Epoch 12/20\n",
      "25000/25000 [==============================] - 2s 80us/step - loss: 0.0525 - acc: 0.9841 - val_loss: 0.5106 - val_acc: 0.8598\n",
      "Epoch 13/20\n",
      "25000/25000 [==============================] - 2s 79us/step - loss: 0.0479 - acc: 0.9850 - val_loss: 0.5480 - val_acc: 0.8573\n",
      "Epoch 14/20\n",
      "25000/25000 [==============================] - 2s 80us/step - loss: 0.0393 - acc: 0.9888 - val_loss: 0.6267 - val_acc: 0.8492\n",
      "Epoch 15/20\n",
      "25000/25000 [==============================] - 2s 80us/step - loss: 0.0345 - acc: 0.9902 - val_loss: 0.6528 - val_acc: 0.8489\n",
      "Epoch 16/20\n",
      "25000/25000 [==============================] - 2s 80us/step - loss: 0.0263 - acc: 0.9933 - val_loss: 0.6709 - val_acc: 0.8505\n",
      "Epoch 17/20\n",
      "25000/25000 [==============================] - 2s 79us/step - loss: 0.0240 - acc: 0.9936 - val_loss: 0.6879 - val_acc: 0.8526\n",
      "Epoch 18/20\n",
      "25000/25000 [==============================] - 2s 81us/step - loss: 0.0194 - acc: 0.9950 - val_loss: 0.7323 - val_acc: 0.8511\n",
      "Epoch 19/20\n",
      "25000/25000 [==============================] - 2s 80us/step - loss: 0.0183 - acc: 0.9951 - val_loss: 0.7600 - val_acc: 0.8513\n",
      "Epoch 20/20\n",
      "25000/25000 [==============================] - 2s 80us/step - loss: 0.0122 - acc: 0.9977 - val_loss: 0.8140 - val_acc: 0.8492\n"
     ]
    }
   ],
   "source": [
    "original_hist = original_model.fit(x_train, y_train,\n",
    "                                   epochs=20,\n",
    "                                   batch_size=512,\n",
    "                                   validation_data=(x_test, y_test))"
   ]
  },
  {
   "cell_type": "code",
   "execution_count": 9,
   "metadata": {},
   "outputs": [
    {
     "name": "stdout",
     "output_type": "stream",
     "text": [
      "Train on 25000 samples, validate on 25000 samples\n",
      "Epoch 1/20\n",
      "25000/25000 [==============================] - 2s 87us/step - loss: 0.5670 - acc: 0.7406 - val_loss: 0.4849 - val_acc: 0.8258\n",
      "Epoch 2/20\n",
      "25000/25000 [==============================] - 2s 79us/step - loss: 0.3924 - acc: 0.8892 - val_loss: 0.3612 - val_acc: 0.8785\n",
      "Epoch 3/20\n",
      "25000/25000 [==============================] - 2s 80us/step - loss: 0.2795 - acc: 0.9172 - val_loss: 0.3012 - val_acc: 0.8876\n",
      "Epoch 4/20\n",
      "25000/25000 [==============================] - 2s 79us/step - loss: 0.2212 - acc: 0.9275 - val_loss: 0.2822 - val_acc: 0.8899\n",
      "Epoch 5/20\n",
      "25000/25000 [==============================] - 2s 79us/step - loss: 0.1876 - acc: 0.9378 - val_loss: 0.2814 - val_acc: 0.8866\n",
      "Epoch 6/20\n",
      "25000/25000 [==============================] - 2s 79us/step - loss: 0.1647 - acc: 0.9451 - val_loss: 0.2858 - val_acc: 0.8856\n",
      "Epoch 7/20\n",
      "25000/25000 [==============================] - 2s 79us/step - loss: 0.1465 - acc: 0.9518 - val_loss: 0.2954 - val_acc: 0.8816\n",
      "Epoch 8/20\n",
      "25000/25000 [==============================] - 2s 79us/step - loss: 0.1328 - acc: 0.9560 - val_loss: 0.3069 - val_acc: 0.8801\n",
      "Epoch 9/20\n",
      "25000/25000 [==============================] - 2s 80us/step - loss: 0.1193 - acc: 0.9626 - val_loss: 0.3219 - val_acc: 0.8780\n",
      "Epoch 10/20\n",
      "25000/25000 [==============================] - 2s 80us/step - loss: 0.1091 - acc: 0.9650 - val_loss: 0.3367 - val_acc: 0.8748\n",
      "Epoch 11/20\n",
      "25000/25000 [==============================] - 2s 79us/step - loss: 0.0984 - acc: 0.9693 - val_loss: 0.3553 - val_acc: 0.8710\n",
      "Epoch 12/20\n",
      "25000/25000 [==============================] - 2s 79us/step - loss: 0.0893 - acc: 0.9730 - val_loss: 0.3792 - val_acc: 0.8693\n",
      "Epoch 13/20\n",
      "25000/25000 [==============================] - 2s 80us/step - loss: 0.0811 - acc: 0.9756 - val_loss: 0.3913 - val_acc: 0.8678\n",
      "Epoch 14/20\n",
      "25000/25000 [==============================] - 2s 78us/step - loss: 0.0739 - acc: 0.9774 - val_loss: 0.4133 - val_acc: 0.8658\n",
      "Epoch 15/20\n",
      "25000/25000 [==============================] - 2s 79us/step - loss: 0.0668 - acc: 0.9809 - val_loss: 0.4417 - val_acc: 0.8626\n",
      "Epoch 16/20\n",
      "25000/25000 [==============================] - 2s 79us/step - loss: 0.0600 - acc: 0.9832 - val_loss: 0.4624 - val_acc: 0.8607\n",
      "Epoch 17/20\n",
      "25000/25000 [==============================] - 2s 80us/step - loss: 0.0545 - acc: 0.9847 - val_loss: 0.4758 - val_acc: 0.8618\n",
      "Epoch 18/20\n",
      "25000/25000 [==============================] - 2s 79us/step - loss: 0.0493 - acc: 0.9872 - val_loss: 0.5044 - val_acc: 0.8593\n",
      "Epoch 19/20\n",
      "25000/25000 [==============================] - 2s 79us/step - loss: 0.0449 - acc: 0.9886 - val_loss: 0.5218 - val_acc: 0.8594\n",
      "Epoch 20/20\n",
      "25000/25000 [==============================] - 2s 79us/step - loss: 0.0401 - acc: 0.9900 - val_loss: 0.5731 - val_acc: 0.8543\n"
     ]
    }
   ],
   "source": [
    "smaller_model_hist = smaller_model.fit(x_train, y_train,\n",
    "                                       epochs=20,\n",
    "                                       batch_size=512,\n",
    "                                       validation_data=(x_test, y_test))"
   ]
  },
  {
   "cell_type": "code",
   "execution_count": 10,
   "metadata": {},
   "outputs": [],
   "source": [
    "epochs = range(1, 21)\n",
    "original_val_loss = original_hist.history['val_loss']\n",
    "smaller_model_val_loss = smaller_model_hist.history['val_loss']"
   ]
  },
  {
   "cell_type": "code",
   "execution_count": 13,
   "metadata": {},
   "outputs": [],
   "source": [
    "import matplotlib.pyplot as plt\n",
    "%matplotlib inline"
   ]
  },
  {
   "cell_type": "code",
   "execution_count": 14,
   "metadata": {
    "scrolled": true
   },
   "outputs": [
    {
     "data": {
      "image/png": "[encoded data removed]",
      "text/plain": [
       "<Figure size 432x288 with 1 Axes>"
      ]
     },
     "metadata": {
      "needs_background": "light"
     },
     "output_type": "display_data"
    }
   ],
   "source": [
    "# ‘b+’는 파란색 덧셈 기호을 의미합니다\n",
    "plt.plot(epochs, original_val_loss, 'b+', label='Original model')\n",
    "# ‘bo’는 파란색 점을 의미합니다\n",
    "plt.plot(epochs, smaller_model_val_loss, 'bo', label='Smaller model')\n",
    "plt.xlabel('Epochs')\n",
    "plt.ylabel('Validation loss')\n",
    "plt.legend()\n",
    "\n",
    "plt.show()"
   ]
  },
  {
   "cell_type": "markdown",
   "metadata": {},
   "source": [
    "- 작은 네트워크가 원래 네트워크보다 더 늦게(많은 Epochs에서) 과대적합되기 시작했다. "
   ]
  },
  {
   "cell_type": "code",
   "execution_count": 17,
   "metadata": {},
   "outputs": [],
   "source": [
    "# 더 큰 용량을 가진 네트워크\n",
    "bigger_model = models.Sequential()\n",
    "bigger_model.add(layers.Dense(1024, activation='relu', input_shape=(10000,)))\n",
    "bigger_model.add(layers.Dense(1024, activation='relu'))\n",
    "bigger_model.add(layers.Dense(1, activation='sigmoid'))\n",
    "\n",
    "bigger_model.compile(optimizer='rmsprop',\n",
    "                     loss='binary_crossentropy',\n",
    "                     metrics=['acc'])\n"
   ]
  },
  {
   "cell_type": "code",
   "execution_count": 18,
   "metadata": {},
   "outputs": [
    {
     "name": "stdout",
     "output_type": "stream",
     "text": [
      "Train on 25000 samples, validate on 25000 samples\n",
      "Epoch 1/20\n",
      "25000/25000 [==============================] - 13s 514us/step - loss: 0.5525 - acc: 0.7849 - val_loss: 0.2828 - val_acc: 0.8846\n",
      "Epoch 2/20\n",
      "25000/25000 [==============================] - 12s 496us/step - loss: 0.2171 - acc: 0.9151 - val_loss: 0.2862 - val_acc: 0.8860\n",
      "Epoch 3/20\n",
      "25000/25000 [==============================] - 12s 493us/step - loss: 0.1278 - acc: 0.9591 - val_loss: 0.4356 - val_acc: 0.8483\n",
      "Epoch 4/20\n",
      "25000/25000 [==============================] - 12s 497us/step - loss: 0.0907 - acc: 0.9802 - val_loss: 0.4555 - val_acc: 0.8836\n",
      "Epoch 5/20\n",
      "25000/25000 [==============================] - 13s 501us/step - loss: 0.1105 - acc: 0.9876 - val_loss: 0.5347 - val_acc: 0.8661\n",
      "Epoch 6/20\n",
      "25000/25000 [==============================] - 13s 508us/step - loss: 0.0012 - acc: 1.0000 - val_loss: 0.6572 - val_acc: 0.8783\n",
      "Epoch 7/20\n",
      "25000/25000 [==============================] - 13s 501us/step - loss: 0.1310 - acc: 0.9844 - val_loss: 0.7561 - val_acc: 0.8748\n",
      "Epoch 8/20\n",
      "25000/25000 [==============================] - 13s 507us/step - loss: 3.5493e-04 - acc: 0.9999 - val_loss: 0.7686 - val_acc: 0.8767\n",
      "Epoch 9/20\n",
      "25000/25000 [==============================] - 13s 506us/step - loss: 3.7288e-05 - acc: 1.0000 - val_loss: 0.8107 - val_acc: 0.8775\n",
      "Epoch 10/20\n",
      "25000/25000 [==============================] - 13s 508us/step - loss: 5.4305e-06 - acc: 1.0000 - val_loss: 0.8956 - val_acc: 0.8788\n",
      "Epoch 11/20\n",
      "25000/25000 [==============================] - 12s 498us/step - loss: 8.5878e-07 - acc: 1.0000 - val_loss: 0.9674 - val_acc: 0.8788\n",
      "Epoch 12/20\n",
      "25000/25000 [==============================] - 12s 499us/step - loss: 2.2318e-07 - acc: 1.0000 - val_loss: 1.0214 - val_acc: 0.8796\n",
      "Epoch 13/20\n",
      "25000/25000 [==============================] - 12s 496us/step - loss: 1.3230e-07 - acc: 1.0000 - val_loss: 1.0617 - val_acc: 0.8796\n",
      "Epoch 14/20\n",
      "25000/25000 [==============================] - 12s 496us/step - loss: 1.1800e-07 - acc: 1.0000 - val_loss: 1.0763 - val_acc: 0.8796\n",
      "Epoch 15/20\n",
      "25000/25000 [==============================] - 12s 498us/step - loss: 1.1403e-07 - acc: 1.0000 - val_loss: 1.0867 - val_acc: 0.8797\n",
      "Epoch 16/20\n",
      "25000/25000 [==============================] - 13s 503us/step - loss: 1.1234e-07 - acc: 1.0000 - val_loss: 1.0923 - val_acc: 0.8796\n",
      "Epoch 17/20\n",
      "25000/25000 [==============================] - 12s 491us/step - loss: 1.1146e-07 - acc: 1.0000 - val_loss: 1.0971 - val_acc: 0.8796\n",
      "Epoch 18/20\n",
      "25000/25000 [==============================] - 12s 497us/step - loss: 1.1098e-07 - acc: 1.0000 - val_loss: 1.1030 - val_acc: 0.8799\n",
      "Epoch 19/20\n",
      "25000/25000 [==============================] - 12s 494us/step - loss: 1.1065e-07 - acc: 1.0000 - val_loss: 1.1069 - val_acc: 0.8799\n",
      "Epoch 20/20\n",
      "25000/25000 [==============================] - 12s 491us/step - loss: 1.1043e-07 - acc: 1.0000 - val_loss: 1.1099 - val_acc: 0.8799\n"
     ]
    }
   ],
   "source": [
    "bigger_model_hist = bigger_model.fit(x_train, y_train,\n",
    "                                     epochs=20,\n",
    "                                     batch_size=512,\n",
    "                                     validation_data=(x_test, y_test))\n"
   ]
  },
  {
   "cell_type": "code",
   "execution_count": 19,
   "metadata": {},
   "outputs": [
    {
     "data": {
      "image/png": "[encoded data removed]",
      "text/plain": [
       "<Figure size 432x288 with 1 Axes>"
      ]
     },
     "metadata": {
      "needs_background": "light"
     },
     "output_type": "display_data"
    }
   ],
   "source": [
    "bigger_model_val_loss = bigger_model_hist.history['val_loss']\n",
    "\n",
    "plt.plot(epochs, original_val_loss, 'b+', label='Original model')\n",
    "plt.plot(epochs, bigger_model_val_loss, 'bo', label='Bigger model')\n",
    "plt.xlabel('Epochs')\n",
    "plt.ylabel('Validation loss')\n",
    "plt.legend()\n",
    "\n",
    "plt.show()"
   ]
  },
  {
   "cell_type": "markdown",
   "metadata": {},
   "source": [
    " - Bigger model이 더 먼저 과대적합하기 시작했다."
   ]
  },
  {
   "cell_type": "code",
   "execution_count": 20,
   "metadata": {
    "scrolled": true
   },
   "outputs": [
    {
     "data": {
      "image/png": "[encoded data removed]",
      "text/plain": [
       "<Figure size 432x288 with 1 Axes>"
      ]
     },
     "metadata": {
      "needs_background": "light"
     },
     "output_type": "display_data"
    }
   ],
   "source": [
    "original_train_loss = original_hist.history['loss']\n",
    "bigger_model_train_loss = bigger_model_hist.history['loss']\n",
    "\n",
    "plt.plot(epochs, original_train_loss, 'b+', label='Original model')\n",
    "plt.plot(epochs, bigger_model_train_loss, 'bo', label='Bigger model')\n",
    "plt.xlabel('Epochs')\n",
    "plt.ylabel('Training loss')\n",
    "plt.legend()\n",
    "\n",
    "plt.show()\n"
   ]
  },
  {
   "cell_type": "markdown",
   "metadata": {},
   "source": [
    " - Training data 에서 loss를 비교 : Bigger model 에서 더 빨리 0으로 수렴(과대적합 의심)"
   ]
  },
  {
   "cell_type": "markdown",
   "metadata": {},
   "source": [
    "### 가중치 규제 추가"
   ]
  },
  {
   "cell_type": "markdown",
   "metadata": {},
   "source": [
    "- 가중치 규제(weight regularization) : 네트워크 복잡도에 제한을 두어 가중치가 작은 값을 가지도록 강제하는 것. 가중치 값의 분포가 더 균일하게 된다.\n",
    "    - L1 규제: 가중치가 절대값에 비례하는 비용이 추가\n",
    "    - L2 규제 : 가중치의 제곱에 비례하는 비용이 추가. called 가중치 감쇠(weight decay)"
   ]
  },
  {
   "cell_type": "code",
   "execution_count": 21,
   "metadata": {},
   "outputs": [],
   "source": [
    "# 영하 리뷰에 가중치 규제 (L2) 추가\n",
    "from keras import regularizers\n",
    "\n",
    "l2_model = models.Sequential()\n",
    "l2_model.add(layers.Dense(16, kernel_regularizer=regularizers.l2(0.001),\n",
    "                          activation='relu', input_shape=(10000,)))\n",
    "l2_model.add(layers.Dense(16, kernel_regularizer=regularizers.l2(0.001),\n",
    "                          activation='relu'))\n",
    "l2_model.add(layers.Dense(1, activation='sigmoid'))\n"
   ]
  },
  {
   "cell_type": "code",
   "execution_count": 22,
   "metadata": {},
   "outputs": [],
   "source": [
    "l2_model.compile(optimizer='rmsprop',\n",
    "                 loss='binary_crossentropy',\n",
    "                 metrics=['acc'])"
   ]
  },
  {
   "cell_type": "code",
   "execution_count": 23,
   "metadata": {},
   "outputs": [
    {
     "name": "stdout",
     "output_type": "stream",
     "text": [
      "Train on 25000 samples, validate on 25000 samples\n",
      "Epoch 1/20\n",
      "25000/25000 [==============================] - 2s 94us/step - loss: 0.4879 - acc: 0.8152 - val_loss: 0.3889 - val_acc: 0.8660\n",
      "Epoch 2/20\n",
      "25000/25000 [==============================] - 2s 82us/step - loss: 0.3100 - acc: 0.9059 - val_loss: 0.3305 - val_acc: 0.8890\n",
      "Epoch 3/20\n",
      "25000/25000 [==============================] - 2s 82us/step - loss: 0.2657 - acc: 0.9202 - val_loss: 0.3301 - val_acc: 0.8873\n",
      "Epoch 4/20\n",
      "25000/25000 [==============================] - 2s 83us/step - loss: 0.2456 - acc: 0.9285 - val_loss: 0.3409 - val_acc: 0.8820\n",
      "Epoch 5/20\n",
      "25000/25000 [==============================] - 2s 83us/step - loss: 0.2320 - acc: 0.9350 - val_loss: 0.3801 - val_acc: 0.8684\n",
      "Epoch 6/20\n",
      "25000/25000 [==============================] - 2s 81us/step - loss: 0.2234 - acc: 0.9391 - val_loss: 0.3659 - val_acc: 0.8757\n",
      "Epoch 7/20\n",
      "25000/25000 [==============================] - 2s 81us/step - loss: 0.2166 - acc: 0.9417 - val_loss: 0.3755 - val_acc: 0.8731\n",
      "Epoch 8/20\n",
      "25000/25000 [==============================] - 2s 81us/step - loss: 0.2100 - acc: 0.9440 - val_loss: 0.3743 - val_acc: 0.8748\n",
      "Epoch 9/20\n",
      "25000/25000 [==============================] - 2s 82us/step - loss: 0.2040 - acc: 0.9460 - val_loss: 0.3767 - val_acc: 0.8751\n",
      "Epoch 10/20\n",
      "25000/25000 [==============================] - 2s 82us/step - loss: 0.2003 - acc: 0.9500 - val_loss: 0.3826 - val_acc: 0.8743\n",
      "Epoch 11/20\n",
      "25000/25000 [==============================] - 2s 82us/step - loss: 0.1943 - acc: 0.9494 - val_loss: 0.3840 - val_acc: 0.8758\n",
      "Epoch 12/20\n",
      "25000/25000 [==============================] - 2s 81us/step - loss: 0.1916 - acc: 0.9518 - val_loss: 0.3943 - val_acc: 0.8741\n",
      "Epoch 13/20\n",
      "25000/25000 [==============================] - 2s 82us/step - loss: 0.1872 - acc: 0.9544 - val_loss: 0.3971 - val_acc: 0.8736\n",
      "Epoch 14/20\n",
      "25000/25000 [==============================] - 2s 81us/step - loss: 0.1810 - acc: 0.9572 - val_loss: 0.4361 - val_acc: 0.8629\n",
      "Epoch 15/20\n",
      "25000/25000 [==============================] - 2s 82us/step - loss: 0.1810 - acc: 0.9581 - val_loss: 0.4523 - val_acc: 0.8587\n",
      "Epoch 16/20\n",
      "25000/25000 [==============================] - 2s 81us/step - loss: 0.1746 - acc: 0.9600 - val_loss: 0.4462 - val_acc: 0.8644\n",
      "Epoch 17/20\n",
      "25000/25000 [==============================] - 2s 82us/step - loss: 0.1708 - acc: 0.9614 - val_loss: 0.4209 - val_acc: 0.8714\n",
      "Epoch 18/20\n",
      "25000/25000 [==============================] - 2s 83us/step - loss: 0.1666 - acc: 0.9641 - val_loss: 0.4397 - val_acc: 0.8668\n",
      "Epoch 19/20\n",
      "25000/25000 [==============================] - 2s 83us/step - loss: 0.1634 - acc: 0.9655 - val_loss: 0.4526 - val_acc: 0.8618\n",
      "Epoch 20/20\n",
      "25000/25000 [==============================] - 2s 84us/step - loss: 0.1593 - acc: 0.9672 - val_loss: 0.4368 - val_acc: 0.8678\n"
     ]
    }
   ],
   "source": [
    "l2_model_hist = l2_model.fit(x_train, y_train,\n",
    "                             epochs=20,\n",
    "                             batch_size=512,\n",
    "                             validation_data=(x_test, y_test))\n"
   ]
  },
  {
   "cell_type": "code",
   "execution_count": 24,
   "metadata": {
    "scrolled": true
   },
   "outputs": [
    {
     "data": {
      "image/png": "[encoded data removed]",
      "text/plain": [
       "<Figure size 432x288 with 1 Axes>"
      ]
     },
     "metadata": {
      "needs_background": "light"
     },
     "output_type": "display_data"
    }
   ],
   "source": [
    "l2_model_val_loss = l2_model_hist.history['val_loss']\n",
    "\n",
    "plt.plot(epochs, original_val_loss, 'b+', label='Original model')\n",
    "plt.plot(epochs, l2_model_val_loss, 'bo', label='L2-regularized model')\n",
    "plt.xlabel('Epochs')\n",
    "plt.ylabel('Validation loss')\n",
    "plt.legend()\n",
    "\n",
    "plt.show()"
   ]
  },
  {
   "cell_type": "markdown",
   "metadata": {},
   "source": [
    "- L2 규제를 추가한것이 훨씬 더 과대적합을 피하고있다."
   ]
  },
  {
   "cell_type": "code",
   "execution_count": 25,
   "metadata": {},
   "outputs": [
    {
     "data": {
      "text/plain": [
       "<keras.regularizers.L1L2 at 0x12cf40d68>"
      ]
     },
     "execution_count": 25,
     "metadata": {},
     "output_type": "execute_result"
    }
   ],
   "source": [
    "# 다른 가중치 규제\n",
    "from keras import regularizers\n",
    "\n",
    "regularizers.l1(0.001) # L1규제\n",
    "\n",
    "regularizers.l1_l2(l1=0.001, l2=0.001) # L1, L2 병행규제"
   ]
  },
  {
   "cell_type": "markdown",
   "metadata": {},
   "source": [
    "### 드롭아웃(dropout) 추가"
   ]
  },
  {
   "cell_type": "markdown",
   "metadata": {},
   "source": [
    " - 훈련하는 동안 무작위로 층의 일부 출력 특성을 제외시킨다.(w=0) \n",
    " - 드랍아웃 비율 : 0이 될 특성의 비율 // 보통 0.2 ~ 0.5"
   ]
  },
  {
   "cell_type": "code",
   "execution_count": 28,
   "metadata": {},
   "outputs": [],
   "source": [
    "# dropout model\n",
    "dpt_model = models.Sequential()\n",
    "dpt_model.add(layers.Dense(16, activation='relu', input_shape=(10000,)))\n",
    "dpt_model.add(layers.Dropout(0.5))\n",
    "dpt_model.add(layers.Dense(16, activation='relu'))\n",
    "dpt_model.add(layers.Dropout(0.5))\n",
    "dpt_model.add(layers.Dense(1, activation='sigmoid'))\n",
    "\n",
    "dpt_model.compile(optimizer='rmsprop',\n",
    "                  loss='binary_crossentropy',\n",
    "                  metrics=['acc'])"
   ]
  },
  {
   "cell_type": "code",
   "execution_count": 29,
   "metadata": {},
   "outputs": [
    {
     "name": "stdout",
     "output_type": "stream",
     "text": [
      "Train on 25000 samples, validate on 25000 samples\n",
      "Epoch 1/20\n",
      "25000/25000 [==============================] - 3s 101us/step - loss: 0.5906 - acc: 0.6841 - val_loss: 0.4329 - val_acc: 0.8622\n",
      "Epoch 2/20\n",
      "25000/25000 [==============================] - 2s 85us/step - loss: 0.4359 - acc: 0.8180 - val_loss: 0.3485 - val_acc: 0.8693\n",
      "Epoch 3/20\n",
      "25000/25000 [==============================] - 2s 82us/step - loss: 0.3469 - acc: 0.8707 - val_loss: 0.2898 - val_acc: 0.8881\n",
      "Epoch 4/20\n",
      "25000/25000 [==============================] - 2s 82us/step - loss: 0.2881 - acc: 0.8986 - val_loss: 0.2766 - val_acc: 0.8880\n",
      "Epoch 5/20\n",
      "25000/25000 [==============================] - 2s 84us/step - loss: 0.2533 - acc: 0.9143 - val_loss: 0.2803 - val_acc: 0.8880\n",
      "Epoch 6/20\n",
      "25000/25000 [==============================] - 2s 84us/step - loss: 0.2221 - acc: 0.9264 - val_loss: 0.2882 - val_acc: 0.8874\n",
      "Epoch 7/20\n",
      "25000/25000 [==============================] - 2s 84us/step - loss: 0.1966 - acc: 0.9357 - val_loss: 0.3260 - val_acc: 0.8835\n",
      "Epoch 8/20\n",
      "25000/25000 [==============================] - 2s 83us/step - loss: 0.1771 - acc: 0.9435 - val_loss: 0.3323 - val_acc: 0.8842\n",
      "Epoch 9/20\n",
      "25000/25000 [==============================] - 2s 81us/step - loss: 0.1714 - acc: 0.9456 - val_loss: 0.3522 - val_acc: 0.8835\n",
      "Epoch 10/20\n",
      "25000/25000 [==============================] - 2s 82us/step - loss: 0.1515 - acc: 0.9514 - val_loss: 0.3761 - val_acc: 0.8842\n",
      "Epoch 11/20\n",
      "25000/25000 [==============================] - 2s 82us/step - loss: 0.1460 - acc: 0.9538 - val_loss: 0.3934 - val_acc: 0.8822\n",
      "Epoch 12/20\n",
      "25000/25000 [==============================] - 2s 82us/step - loss: 0.1363 - acc: 0.9582 - val_loss: 0.4361 - val_acc: 0.8752\n",
      "Epoch 13/20\n",
      "25000/25000 [==============================] - 2s 82us/step - loss: 0.1229 - acc: 0.9602 - val_loss: 0.4759 - val_acc: 0.8717\n",
      "Epoch 14/20\n",
      "25000/25000 [==============================] - 2s 82us/step - loss: 0.1196 - acc: 0.9608 - val_loss: 0.4539 - val_acc: 0.8758\n",
      "Epoch 15/20\n",
      "25000/25000 [==============================] - 2s 81us/step - loss: 0.1156 - acc: 0.9627 - val_loss: 0.4865 - val_acc: 0.8725\n",
      "Epoch 16/20\n",
      "25000/25000 [==============================] - 2s 85us/step - loss: 0.1143 - acc: 0.9644 - val_loss: 0.5230 - val_acc: 0.8751\n",
      "Epoch 17/20\n",
      "25000/25000 [==============================] - 2s 82us/step - loss: 0.1085 - acc: 0.9657 - val_loss: 0.5521 - val_acc: 0.8727\n",
      "Epoch 18/20\n",
      "25000/25000 [==============================] - 2s 83us/step - loss: 0.1101 - acc: 0.9659 - val_loss: 0.5408 - val_acc: 0.8745\n",
      "Epoch 19/20\n",
      "25000/25000 [==============================] - 2s 83us/step - loss: 0.0978 - acc: 0.9679 - val_loss: 0.5783 - val_acc: 0.8720\n",
      "Epoch 20/20\n",
      "25000/25000 [==============================] - 2s 83us/step - loss: 0.1023 - acc: 0.9683 - val_loss: 0.5832 - val_acc: 0.8727\n"
     ]
    }
   ],
   "source": [
    "dpt_model_hist = dpt_model.fit(x_train, y_train,\n",
    "                               epochs=20,\n",
    "                               batch_size=512,\n",
    "                               validation_data=(x_test, y_test))"
   ]
  },
  {
   "cell_type": "code",
   "execution_count": 30,
   "metadata": {},
   "outputs": [
    {
     "data": {
      "image/png": "[encoded data removed]",
      "text/plain": [
       "<Figure size 432x288 with 1 Axes>"
      ]
     },
     "metadata": {
      "needs_background": "light"
     },
     "output_type": "display_data"
    }
   ],
   "source": [
    "dpt_model_val_loss = dpt_model_hist.history['val_loss']\n",
    "\n",
    "plt.plot(epochs, original_val_loss, 'b+', label='Original model')\n",
    "plt.plot(epochs, dpt_model_val_loss, 'bo', label='Dropout-regularized model')\n",
    "plt.xlabel('Epochs')\n",
    "plt.ylabel('Validation loss')\n",
    "plt.legend()\n",
    "\n",
    "plt.show()"
   ]
  },
  {
   "cell_type": "code",
   "execution_count": null,
   "metadata": {},
   "outputs": [],
   "source": []
  }
 ],
 "metadata": {
  "kernelspec": {
   "display_name": "Python 3",
   "language": "python",
   "name": "python3"
  },
  "language_info": {
   "codemirror_mode": {
    "name": "ipython",
    "version": 3
   },
   "file_extension": ".py",
   "mimetype": "text/x-python",
   "name": "python",
   "nbconvert_exporter": "python",
   "pygments_lexer": "ipython3",
   "version": "3.6.7"
  },
  "latex_envs": {
   "LaTeX_envs_menu_present": true,
   "autoclose": false,
   "autocomplete": true,
   "bibliofile": "biblio.bib",
   "cite_by": "apalike",
   "current_citInitial": 1,
   "eqLabelWithNumbers": true,
   "eqNumInitial": 1,
   "hotkeys": {
    "equation": "Ctrl-E",
    "itemize": "Ctrl-I"
   },
   "labels_anchors": false,
   "latex_user_defs": false,
   "report_style_numbering": false,
   "user_envs_cfg": false
  },
  "toc": {
   "base_numbering": 1,
   "nav_menu": {},
   "number_sections": true,
   "sideBar": true,
   "skip_h1_title": false,
   "title_cell": "Table of Contents",
   "title_sidebar": "Contents",
   "toc_cell": false,
   "toc_position": {},
   "toc_section_display": true,
   "toc_window_display": false
  }
 },
 "nbformat": 4,
 "nbformat_minor": 2
}
