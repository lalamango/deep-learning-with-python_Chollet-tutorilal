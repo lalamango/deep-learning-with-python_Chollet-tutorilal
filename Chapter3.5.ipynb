{
 "cells": [
  {
   "cell_type": "markdown",
   "metadata": {},
   "source": [
    "## Chapter 3.5 뉴스 기사 분류: 다중 분류 문제"
   ]
  },
  {
   "cell_type": "markdown",
   "metadata": {},
   "source": [
    "### Loading Reuters Data Set"
   ]
  },
  {
   "cell_type": "code",
   "execution_count": 2,
   "metadata": {},
   "outputs": [],
   "source": [
    "from keras.datasets import reuters\n"
   ]
  },
  {
   "cell_type": "markdown",
   "metadata": {},
   "source": [
    "### data split"
   ]
  },
  {
   "cell_type": "code",
   "execution_count": null,
   "metadata": {},
   "outputs": [],
   "source": [
    "(train_data, train_labels), (test_data, test_labels) = reuters.load_data(num_words= 10000)"
   ]
  },
  {
   "cell_type": "markdown",
   "metadata": {},
   "source": [
    " - 원래 텍스트로 디코딩하기"
   ]
  },
  {
   "cell_type": "code",
   "execution_count": 3,
   "metadata": {},
   "outputs": [
    {
     "name": "stdout",
     "output_type": "stream",
     "text": [
      "Downloading data from https://s3.amazonaws.com/text-datasets/reuters_word_index.json\n",
      "557056/550378 [==============================] - 3s 6us/step\n"
     ]
    }
   ],
   "source": [
    "word_index = reuters.get_word_index()\n",
    "reverse_word_index = dict([(value, key) for (key, value) in word_index.items()])\n",
    "decoded_newwire = ' '.join([reverse_word_index.get(i-3, '?') for i in train_data[0]])"
   ]
  },
  {
   "cell_type": "code",
   "execution_count": 4,
   "metadata": {},
   "outputs": [
    {
     "data": {
      "text/plain": [
       "'? ? ? said as a result of its december acquisition of space co it expects earnings per share in 1987 of 1 15 to 1 30 dlrs per share up from 70 cts in 1986 the company said pretax net should rise to nine to 10 mln dlrs from six mln dlrs in 1986 and rental operation revenues to 19 to 22 mln dlrs from 12 5 mln dlrs it said cash flow per share this year should be 2 50 to three dlrs reuter 3'"
      ]
     },
     "execution_count": 4,
     "metadata": {},
     "output_type": "execute_result"
    }
   ],
   "source": [
    "decoded_newwire"
   ]
  },
  {
   "cell_type": "markdown",
   "metadata": {},
   "source": [
    "### data preprocessing"
   ]
  },
  {
   "cell_type": "code",
   "execution_count": 6,
   "metadata": {},
   "outputs": [],
   "source": [
    "import numpy as np\n",
    "\n",
    "def vectorize_sequences(sequences, dimension=10000):\n",
    "    results = np.zeros((len(sequences), dimension))\n",
    "    for i, sequence in enumerate(sequences):\n",
    "        results[i, sequence] = 1\n",
    "        \n",
    "    return results\n",
    "\n",
    "x_train = vectorize_sequences(train_data)\n",
    "x_test = vectorize_sequences(test_data)"
   ]
  },
  {
   "cell_type": "markdown",
   "metadata": {},
   "source": [
    "#### multi- label :: one hot encoidng"
   ]
  },
  {
   "cell_type": "code",
   "execution_count": 7,
   "metadata": {},
   "outputs": [],
   "source": [
    "def to_one_hot(labels, dimension =46):\n",
    "    results = np.zeros((len(labels), dimension))\n",
    "    for i, label in enumerate(labels):\n",
    "        results[i, label] = i\n",
    "    return results\n",
    "\n",
    "one_hot_train_labels = to_one_hot(train_labels)\n",
    "one_hot_test_labels = to_one_hot(test_labels)"
   ]
  },
  {
   "cell_type": "markdown",
   "metadata": {},
   "source": [
    " - 16차원의 공간으로 46개의 클래스를 구분하기엔 너무 제약이 많다. // 한 layer 에서 분류 문제에 필요한 일부 정보를 누락하면 그 다음 충에서 이를 복원할 수 없다.\n",
    " - 64개의 유닛으로 시도"
   ]
  },
  {
   "cell_type": "markdown",
   "metadata": {},
   "source": [
    "### Model Construction"
   ]
  },
  {
   "cell_type": "code",
   "execution_count": 13,
   "metadata": {},
   "outputs": [],
   "source": [
    "from keras import models\n",
    "from keras import layers\n",
    "\n",
    "model = models.Sequential()\n",
    "model.add(layers.Dense(64, activation='relu', input_shape=(10000,)))\n",
    "model.add(layers.Dense(64, activation='relu'))\n",
    "model.add(layers.Dense(46, activation='softmax'))"
   ]
  },
  {
   "cell_type": "markdown",
   "metadata": {},
   "source": [
    "#### model compile"
   ]
  },
  {
   "cell_type": "code",
   "execution_count": 27,
   "metadata": {},
   "outputs": [],
   "source": [
    "from keras import losses"
   ]
  },
  {
   "cell_type": "code",
   "execution_count": 28,
   "metadata": {},
   "outputs": [],
   "source": [
    "model.compile(optimizer='rmsprop',\n",
    "             loss=losses.categorical_crossentropy,\n",
    "             metrics=['accuracy'])"
   ]
  },
  {
   "cell_type": "markdown",
   "metadata": {},
   "source": [
    "#### model validation"
   ]
  },
  {
   "cell_type": "code",
   "execution_count": 20,
   "metadata": {},
   "outputs": [],
   "source": [
    "x_val = x_train[:1000]\n",
    "partial_x_train = x_test[1000:]\n",
    "y_val = one_hot_train_labels[:1000]\n",
    "partial_y_train = one_hot_test_labels[1000:]"
   ]
  },
  {
   "cell_type": "code",
   "execution_count": 29,
   "metadata": {},
   "outputs": [
    {
     "name": "stdout",
     "output_type": "stream",
     "text": [
      "Train on 1246 samples, validate on 1000 samples\n",
      "Epoch 1/20\n",
      "1246/1246 [==============================] - 0s 230us/step - loss: 373.1218 - acc: 0.9623 - val_loss: 708.4649 - val_acc: 0.6940\n",
      "Epoch 2/20\n",
      "1246/1246 [==============================] - 0s 98us/step - loss: 256.6929 - acc: 0.9759 - val_loss: 650.5784 - val_acc: 0.7390\n",
      "Epoch 3/20\n",
      "1246/1246 [==============================] - 0s 97us/step - loss: 202.4050 - acc: 0.9831 - val_loss: 660.6828 - val_acc: 0.7330\n",
      "Epoch 4/20\n",
      "1246/1246 [==============================] - 0s 97us/step - loss: 174.0243 - acc: 0.9848 - val_loss: 650.8749 - val_acc: 0.7350\n",
      "Epoch 5/20\n",
      "1246/1246 [==============================] - 0s 98us/step - loss: 156.8521 - acc: 0.9880 - val_loss: 712.4924 - val_acc: 0.7080\n",
      "Epoch 6/20\n",
      "1246/1246 [==============================] - 0s 98us/step - loss: 133.8056 - acc: 0.9896 - val_loss: 675.8859 - val_acc: 0.7270\n",
      "Epoch 7/20\n",
      "1246/1246 [==============================] - 0s 98us/step - loss: 119.9623 - acc: 0.9880 - val_loss: 690.9613 - val_acc: 0.7230\n",
      "Epoch 8/20\n",
      "1246/1246 [==============================] - 0s 98us/step - loss: 105.4923 - acc: 0.9888 - val_loss: 687.5559 - val_acc: 0.7300\n",
      "Epoch 9/20\n",
      "1246/1246 [==============================] - 0s 97us/step - loss: 99.5054 - acc: 0.9888 - val_loss: 718.5348 - val_acc: 0.7160\n",
      "Epoch 10/20\n",
      "1246/1246 [==============================] - 0s 97us/step - loss: 87.9106 - acc: 0.9896 - val_loss: 693.0670 - val_acc: 0.7250\n",
      "Epoch 11/20\n",
      "1246/1246 [==============================] - 0s 99us/step - loss: 75.9146 - acc: 0.9888 - val_loss: 727.2919 - val_acc: 0.7160\n",
      "Epoch 12/20\n",
      "1246/1246 [==============================] - 0s 100us/step - loss: 74.5255 - acc: 0.9888 - val_loss: 729.5232 - val_acc: 0.7070\n",
      "Epoch 13/20\n",
      "1246/1246 [==============================] - 0s 105us/step - loss: 79.6531 - acc: 0.9896 - val_loss: 741.8433 - val_acc: 0.7150\n",
      "Epoch 14/20\n",
      "1246/1246 [==============================] - 0s 98us/step - loss: 61.9718 - acc: 0.9896 - val_loss: 729.7673 - val_acc: 0.7210\n",
      "Epoch 15/20\n",
      "1246/1246 [==============================] - 0s 102us/step - loss: 58.6253 - acc: 0.9912 - val_loss: 713.2984 - val_acc: 0.7280\n",
      "Epoch 16/20\n",
      "1246/1246 [==============================] - 0s 101us/step - loss: 56.8973 - acc: 0.9912 - val_loss: 731.0943 - val_acc: 0.7180\n",
      "Epoch 17/20\n",
      "1246/1246 [==============================] - 0s 98us/step - loss: 58.7134 - acc: 0.9912 - val_loss: 732.0227 - val_acc: 0.7240\n",
      "Epoch 18/20\n",
      "1246/1246 [==============================] - 0s 98us/step - loss: 48.5062 - acc: 0.9912 - val_loss: 775.9665 - val_acc: 0.7090\n",
      "Epoch 19/20\n",
      "1246/1246 [==============================] - 0s 98us/step - loss: 43.0633 - acc: 0.9920 - val_loss: 753.4530 - val_acc: 0.7220\n",
      "Epoch 20/20\n",
      "1246/1246 [==============================] - 0s 97us/step - loss: 44.8546 - acc: 0.9904 - val_loss: 853.6708 - val_acc: 0.6920\n"
     ]
    }
   ],
   "source": [
    "history = model.fit(partial_x_train,\n",
    "                   partial_y_train,\n",
    "                   epochs=20,\n",
    "                   batch_size=512,\n",
    "                   validation_data=(x_val, y_val))"
   ]
  },
  {
   "cell_type": "markdown",
   "metadata": {},
   "source": [
    "### visualization"
   ]
  },
  {
   "cell_type": "code",
   "execution_count": 30,
   "metadata": {},
   "outputs": [
    {
     "data": {
      "image/png": "[encoded data removed]",
      "text/plain": [
       "<Figure size 432x288 with 1 Axes>"
      ]
     },
     "metadata": {
      "needs_background": "light"
     },
     "output_type": "display_data"
    }
   ],
   "source": [
    "import matplotlib.pyplot as plt\n",
    "%matplotlib inline\n",
    "\n",
    "loss = history.history['loss']\n",
    "val_loss = history.history['val_loss']\n",
    "\n",
    "epochs = range(1, len(loss) + 1)\n",
    "\n",
    "plt.plot(epochs, loss, 'bo', label='Training loss')\n",
    "plt.plot(epochs, val_loss, 'b', label='Validation loss')\n",
    "plt.title('Training and validation loss')\n",
    "plt.xlabel('Epochs')\n",
    "plt.ylabel('Loss')\n",
    "plt.legend()\n",
    "\n",
    "plt.show()"
   ]
  },
  {
   "cell_type": "code",
   "execution_count": 31,
   "metadata": {},
   "outputs": [
    {
     "data": {
      "image/png": "[encoded data removed]",
      "text/plain": [
       "<Figure size 432x288 with 1 Axes>"
      ]
     },
     "metadata": {
      "needs_background": "light"
     },
     "output_type": "display_data"
    }
   ],
   "source": [
    "import matplotlib.pyplot as plt\n",
    "%matplotlib inline\n",
    "\n",
    "loss = history.history['acc']\n",
    "val_loss = history.history['val_acc']\n",
    "\n",
    "epochs = range(1, len(loss) + 1)\n",
    "\n",
    "plt.plot(epochs, loss, 'bo', label='Training loss')\n",
    "plt.plot(epochs, val_loss, 'b', label='Validation loss')\n",
    "plt.title('Training and validation loss')\n",
    "plt.xlabel('Epochs')\n",
    "plt.ylabel('Accuracy')\n",
    "plt.legend()\n",
    "\n",
    "plt.show()"
   ]
  },
  {
   "cell_type": "markdown",
   "metadata": {},
   "source": [
    "### 과대적합을 피하기 위해 9th epoch 까지 진행"
   ]
  },
  {
   "cell_type": "code",
   "execution_count": 35,
   "metadata": {},
   "outputs": [
    {
     "name": "stdout",
     "output_type": "stream",
     "text": [
      "Train on 1246 samples, validate on 1000 samples\n",
      "Epoch 1/9\n",
      "1246/1246 [==============================] - 0s 265us/step - loss: 6047.0858 - acc: 0.2303 - val_loss: 1652.4285 - val_acc: 0.4820\n",
      "Epoch 2/9\n",
      "1246/1246 [==============================] - 0s 96us/step - loss: 4927.8334 - acc: 0.4848 - val_loss: 1360.9729 - val_acc: 0.5290\n",
      "Epoch 3/9\n",
      "1246/1246 [==============================] - 0s 97us/step - loss: 3842.0599 - acc: 0.5658 - val_loss: 1171.8116 - val_acc: 0.5380\n",
      "Epoch 4/9\n",
      "1246/1246 [==============================] - 0s 96us/step - loss: 3074.1580 - acc: 0.6404 - val_loss: 1034.8266 - val_acc: 0.5720\n",
      "Epoch 5/9\n",
      "1246/1246 [==============================] - 0s 97us/step - loss: 2509.6770 - acc: 0.6966 - val_loss: 938.9534 - val_acc: 0.6030\n",
      "Epoch 6/9\n",
      "1246/1246 [==============================] - 0s 96us/step - loss: 2104.9559 - acc: 0.7512 - val_loss: 875.4723 - val_acc: 0.6310\n",
      "Epoch 7/9\n",
      "1246/1246 [==============================] - 0s 97us/step - loss: 1799.3149 - acc: 0.7865 - val_loss: 828.0247 - val_acc: 0.6490\n",
      "Epoch 8/9\n",
      "1246/1246 [==============================] - 0s 97us/step - loss: 1549.1258 - acc: 0.8242 - val_loss: 795.5914 - val_acc: 0.6590\n",
      "Epoch 9/9\n",
      "1246/1246 [==============================] - 0s 96us/step - loss: 1353.0872 - acc: 0.8395 - val_loss: 760.0570 - val_acc: 0.6790\n",
      "2246/2246 [==============================] - 0s 95us/step\n"
     ]
    }
   ],
   "source": [
    "model = models.Sequential()\n",
    "model.add(layers.Dense(64, activation='relu', input_shape=(10000,)))\n",
    "model.add(layers.Dense(64, activation='relu'))\n",
    "model.add(layers.Dense(46, activation='softmax'))\n",
    "\n",
    "model.compile(optimizer='rmsprop',\n",
    "             loss='categorical_crossentropy',\n",
    "             metrics=['accuracy'])\n",
    "\n",
    "model.fit(partial_x_train,\n",
    "         partial_y_train,\n",
    "         epochs=9,\n",
    "         batch_size=512,\n",
    "         validation_data=(x_val, y_val))\n",
    "\n",
    "results = model.evaluate(x_test, one_hot_test_labels)"
   ]
  },
  {
   "cell_type": "code",
   "execution_count": 36,
   "metadata": {},
   "outputs": [
    {
     "data": {
      "text/plain": [
       "[1007.6384136033504, 0.7858414960459524]"
      ]
     },
     "execution_count": 36,
     "metadata": {},
     "output_type": "execute_result"
    }
   ],
   "source": [
    "results"
   ]
  },
  {
   "cell_type": "markdown",
   "metadata": {},
   "source": [
    "### model predict"
   ]
  },
  {
   "cell_type": "code",
   "execution_count": 37,
   "metadata": {},
   "outputs": [],
   "source": [
    "prediction = model.predict(x_test)"
   ]
  },
  {
   "cell_type": "markdown",
   "metadata": {},
   "source": [
    "### categorical_crossentropy & sparse_categorical_crossentropy"
   ]
  },
  {
   "cell_type": "markdown",
   "metadata": {},
   "source": [
    " - 정수 레이블을 사용할 때에는 sparse_categorical_crossentropy 를 사용해야 한다."
   ]
  },
  {
   "cell_type": "code",
   "execution_count": 41,
   "metadata": {},
   "outputs": [],
   "source": [
    "y_train = np.array(train_labels)\n",
    "y_test = np.array(test_labels)\n",
    "\n",
    "model.compile(optimizer='rmsprop',\n",
    "             loss='sparse_categorical_crossentropy',\n",
    "             metrcis=['acc'])"
   ]
  },
  {
   "cell_type": "markdown",
   "metadata": {},
   "source": [
    "### 46차원보다 작은 중간층을 두었을때의 문제"
   ]
  },
  {
   "cell_type": "code",
   "execution_count": 46,
   "metadata": {},
   "outputs": [
    {
     "name": "stdout",
     "output_type": "stream",
     "text": [
      "Train on 1246 samples, validate on 1000 samples\n",
      "Epoch 1/9\n",
      "1246/1246 [==============================] - 0s 370us/step - loss: 6065.0091 - acc: 0.0273 - val_loss: 1788.9307 - val_acc: 0.0590\n",
      "Epoch 2/9\n",
      "1246/1246 [==============================] - 0s 97us/step - loss: 5641.7494 - acc: 0.0482 - val_loss: 1726.3265 - val_acc: 0.0690\n",
      "Epoch 3/9\n",
      "1246/1246 [==============================] - 0s 98us/step - loss: 5375.8183 - acc: 0.0738 - val_loss: 1674.8371 - val_acc: 0.1310\n",
      "Epoch 4/9\n",
      "1246/1246 [==============================] - 0s 96us/step - loss: 5157.6922 - acc: 0.2151 - val_loss: 1635.7019 - val_acc: 0.2540\n",
      "Epoch 5/9\n",
      "1246/1246 [==============================] - 0s 98us/step - loss: 4968.3676 - acc: 0.2745 - val_loss: 1603.4127 - val_acc: 0.2460\n",
      "Epoch 6/9\n",
      "1246/1246 [==============================] - 0s 96us/step - loss: 4806.5682 - acc: 0.2624 - val_loss: 1568.3289 - val_acc: 0.2390\n",
      "Epoch 7/9\n",
      "1246/1246 [==============================] - 0s 95us/step - loss: 4655.4521 - acc: 0.2560 - val_loss: 1528.4960 - val_acc: 0.2370\n",
      "Epoch 8/9\n",
      "1246/1246 [==============================] - 0s 95us/step - loss: 4500.3854 - acc: 0.2665 - val_loss: 1507.5685 - val_acc: 0.2310\n",
      "Epoch 9/9\n",
      "1246/1246 [==============================] - 0s 98us/step - loss: 4354.7716 - acc: 0.2616 - val_loss: 1469.5784 - val_acc: 0.2370\n"
     ]
    },
    {
     "data": {
      "text/plain": [
       "<keras.callbacks.History at 0x12774c0b8>"
      ]
     },
     "execution_count": 46,
     "metadata": {},
     "output_type": "execute_result"
    }
   ],
   "source": [
    "model = models.Sequential()\n",
    "model.add(layers.Dense(64, activation='relu', input_shape=(10000,)))\n",
    "model.add(layers.Dense(4, activation='relu'))\n",
    "model.add(layers.Dense(46, activation='softmax'))\n",
    "\n",
    "model.compile(optimizer='rmsprop',\n",
    "             loss='categorical_crossentropy',\n",
    "             metrics=['accuracy'])\n",
    "\n",
    "model.fit(partial_x_train,\n",
    "         partial_y_train,\n",
    "         epochs=9,\n",
    "         batch_size=512,\n",
    "         validation_data=(x_val, y_val))"
   ]
  },
  {
   "cell_type": "markdown",
   "metadata": {},
   "source": [
    "### 추가 실험"
   ]
  },
  {
   "cell_type": "markdown",
   "metadata": {},
   "source": [
    "#### 더 큰 은닉 유닛 사용"
   ]
  },
  {
   "cell_type": "code",
   "execution_count": 47,
   "metadata": {},
   "outputs": [
    {
     "name": "stdout",
     "output_type": "stream",
     "text": [
      "Train on 1246 samples, validate on 1000 samples\n",
      "Epoch 1/9\n",
      "1246/1246 [==============================] - 0s 316us/step - loss: 6083.6349 - acc: 0.2151 - val_loss: 1637.7244 - val_acc: 0.4810\n",
      "Epoch 2/9\n",
      "1246/1246 [==============================] - 0s 141us/step - loss: 4899.2971 - acc: 0.4920 - val_loss: 1326.7336 - val_acc: 0.5370\n",
      "Epoch 3/9\n",
      "1246/1246 [==============================] - 0s 141us/step - loss: 3734.9902 - acc: 0.5714 - val_loss: 1102.0734 - val_acc: 0.5600\n",
      "Epoch 4/9\n",
      "1246/1246 [==============================] - 0s 143us/step - loss: 2887.7554 - acc: 0.6621 - val_loss: 965.9047 - val_acc: 0.6060\n",
      "Epoch 5/9\n",
      "1246/1246 [==============================] - 0s 144us/step - loss: 2322.4369 - acc: 0.7183 - val_loss: 875.7419 - val_acc: 0.6260\n",
      "Epoch 6/9\n",
      "1246/1246 [==============================] - 0s 143us/step - loss: 1927.3903 - acc: 0.7640 - val_loss: 817.3449 - val_acc: 0.6650\n",
      "Epoch 7/9\n",
      "1246/1246 [==============================] - 0s 145us/step - loss: 1635.1562 - acc: 0.8050 - val_loss: 783.6958 - val_acc: 0.6620\n",
      "Epoch 8/9\n",
      "1246/1246 [==============================] - 0s 141us/step - loss: 1400.1633 - acc: 0.8363 - val_loss: 746.2825 - val_acc: 0.6920\n",
      "Epoch 9/9\n",
      "1246/1246 [==============================] - 0s 141us/step - loss: 1208.2383 - acc: 0.8756 - val_loss: 733.2795 - val_acc: 0.6880\n"
     ]
    },
    {
     "data": {
      "text/plain": [
       "<keras.callbacks.History at 0x1296399b0>"
      ]
     },
     "execution_count": 47,
     "metadata": {},
     "output_type": "execute_result"
    }
   ],
   "source": [
    "model = models.Sequential()\n",
    "model.add(layers.Dense(64, activation='relu', input_shape=(10000,)))\n",
    "model.add(layers.Dense(128, activation='relu'))\n",
    "model.add(layers.Dense(46, activation='softmax'))\n",
    "\n",
    "model.compile(optimizer='rmsprop',\n",
    "             loss='categorical_crossentropy',\n",
    "             metrics=['accuracy'])\n",
    "\n",
    "model.fit(partial_x_train,\n",
    "         partial_y_train,\n",
    "         epochs=9,\n",
    "         batch_size=512,\n",
    "         validation_data=(x_val, y_val))"
   ]
  },
  {
   "cell_type": "markdown",
   "metadata": {},
   "source": [
    "#### 3개의 hidden layer 사용"
   ]
  },
  {
   "cell_type": "code",
   "execution_count": 48,
   "metadata": {},
   "outputs": [
    {
     "name": "stdout",
     "output_type": "stream",
     "text": [
      "Train on 1246 samples, validate on 1000 samples\n",
      "Epoch 1/9\n",
      "1246/1246 [==============================] - 0s 373us/step - loss: 6040.8462 - acc: 0.2319 - val_loss: 1587.0156 - val_acc: 0.4640\n",
      "Epoch 2/9\n",
      "1246/1246 [==============================] - 0s 141us/step - loss: 4651.0939 - acc: 0.4960 - val_loss: 1226.4498 - val_acc: 0.3740\n",
      "Epoch 3/9\n",
      "1246/1246 [==============================] - 0s 143us/step - loss: 3360.4514 - acc: 0.4984 - val_loss: 988.5439 - val_acc: 0.5460\n",
      "Epoch 4/9\n",
      "1246/1246 [==============================] - 0s 143us/step - loss: 2671.3590 - acc: 0.6140 - val_loss: 927.7487 - val_acc: 0.5390\n",
      "Epoch 5/9\n",
      "1246/1246 [==============================] - 0s 143us/step - loss: 2244.3484 - acc: 0.6798 - val_loss: 848.0217 - val_acc: 0.6060\n",
      "Epoch 6/9\n",
      "1246/1246 [==============================] - 0s 140us/step - loss: 1881.5144 - acc: 0.7424 - val_loss: 793.4181 - val_acc: 0.6580\n",
      "Epoch 7/9\n",
      "1246/1246 [==============================] - 0s 145us/step - loss: 1604.4232 - acc: 0.7937 - val_loss: 761.4508 - val_acc: 0.6660\n",
      "Epoch 8/9\n",
      "1246/1246 [==============================] - 0s 147us/step - loss: 1369.6918 - acc: 0.8234 - val_loss: 745.3925 - val_acc: 0.6750\n",
      "Epoch 9/9\n",
      "1246/1246 [==============================] - 0s 141us/step - loss: 1199.5843 - acc: 0.8531 - val_loss: 793.3255 - val_acc: 0.6390\n"
     ]
    },
    {
     "data": {
      "text/plain": [
       "<keras.callbacks.History at 0x1274625f8>"
      ]
     },
     "execution_count": 48,
     "metadata": {},
     "output_type": "execute_result"
    }
   ],
   "source": [
    "model = models.Sequential()\n",
    "model.add(layers.Dense(64, activation='relu', input_shape=(10000,)))\n",
    "model.add(layers.Dense(128, activation='relu'))\n",
    "model.add(layers.Dense(128, activation='relu'))\n",
    "model.add(layers.Dense(46, activation='softmax'))\n",
    "\n",
    "model.compile(optimizer='rmsprop',\n",
    "             loss='categorical_crossentropy',\n",
    "             metrics=['accuracy'])\n",
    "\n",
    "model.fit(partial_x_train,\n",
    "         partial_y_train,\n",
    "         epochs=9,\n",
    "         batch_size=512,\n",
    "         validation_data=(x_val, y_val))"
   ]
  }
 ],
 "metadata": {
  "kernelspec": {
   "display_name": "Python 3",
   "language": "python",
   "name": "python3"
  },
  "language_info": {
   "codemirror_mode": {
    "name": "ipython",
    "version": 3
   },
   "file_extension": ".py",
   "mimetype": "text/x-python",
   "name": "python",
   "nbconvert_exporter": "python",
   "pygments_lexer": "ipython3",
   "version": "3.6.7"
  },
  "latex_envs": {
   "LaTeX_envs_menu_present": true,
   "autoclose": false,
   "autocomplete": true,
   "bibliofile": "biblio.bib",
   "cite_by": "apalike",
   "current_citInitial": 1,
   "eqLabelWithNumbers": true,
   "eqNumInitial": 1,
   "hotkeys": {
    "equation": "Ctrl-E",
    "itemize": "Ctrl-I"
   },
   "labels_anchors": false,
   "latex_user_defs": false,
   "report_style_numbering": false,
   "user_envs_cfg": false
  },
  "toc": {
   "base_numbering": 1,
   "nav_menu": {},
   "number_sections": true,
   "sideBar": true,
   "skip_h1_title": false,
   "title_cell": "Table of Contents",
   "title_sidebar": "Contents",
   "toc_cell": false,
   "toc_position": {},
   "toc_section_display": true,
   "toc_window_display": false
  }
 },
 "nbformat": 4,
 "nbformat_minor": 2
}
